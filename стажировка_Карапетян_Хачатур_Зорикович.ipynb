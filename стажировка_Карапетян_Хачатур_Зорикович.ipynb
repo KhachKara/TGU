{
  "cells": [
    {
      "cell_type": "markdown",
      "metadata": {
        "id": "view-in-github",
        "colab_type": "text"
      },
      "source": [
        "<a href=\"https://colab.research.google.com/github/KhachKara/TGU/blob/master/%D1%81%D1%82%D0%B0%D0%B6%D0%B8%D1%80%D0%BE%D0%B2%D0%BA%D0%B0_%D0%9A%D0%B0%D1%80%D0%B0%D0%BF%D0%B5%D1%82%D1%8F%D0%BD_%D0%A5%D0%B0%D1%87%D0%B0%D1%82%D1%83%D1%80_%D0%97%D0%BE%D1%80%D0%B8%D0%BA%D0%BE%D0%B2%D0%B8%D1%87.ipynb\" target=\"_parent\"><img src=\"https://colab.research.google.com/assets/colab-badge.svg\" alt=\"Open In Colab\"/></a>"
      ]
    },
    {
      "cell_type": "markdown",
      "metadata": {
        "id": "RkzV79RkCPyL"
      },
      "source": [
        "## Работа не закончена, она в процессе выполнения !!!"
      ]
    },
    {
      "cell_type": "code",
      "execution_count": null,
      "metadata": {
        "colab": {
          "base_uri": "https://localhost:8080/"
        },
        "id": "Zl5wSKBFU4AG",
        "outputId": "6938c16e-9c61-432d-8ec5-cb291547de05"
      },
      "outputs": [
        {
          "output_type": "stream",
          "name": "stdout",
          "text": [
            "/usr/local/lib/python3.7/dist-packages/gdown/cli.py:131: FutureWarning: Option `--id` was deprecated in version 4.3.1 and will be removed in 5.0. You don't need to pass it anymore to use a file ID.\n",
            "  category=FutureWarning,\n",
            "Downloading...\n",
            "From: https://drive.google.com/uc?id=1PymN1H0rgS8BVuaKyFhusJiTloTjJwAD\n",
            "To: /content/result roles (16.06.2022).csv\n",
            "100% 445M/445M [00:04<00:00, 92.0MB/s]\n"
          ]
        }
      ],
      "source": [
        "# загружаеи по id csv из google disk\n",
        "#!gdown --id 1AHKY5t_53eBTm3rHy8oIttwQijt7Dw55\n",
        "!gdown --id 1PymN1H0rgS8BVuaKyFhusJiTloTjJwAD"
      ]
    },
    {
      "cell_type": "code",
      "execution_count": null,
      "metadata": {
        "id": "ypB5hBKeL57h"
      },
      "outputs": [],
      "source": [
        "import pandas as pd\n",
        "import matplotlib.pyplot as plt\n",
        "import json\n",
        "import re\n",
        "import numpy as np"
      ]
    },
    {
      "cell_type": "markdown",
      "source": [
        "##region roles (26.05.22).csv\n",
        "##result roles (16.06.2022).csv"
      ],
      "metadata": {
        "id": "Acfhw1RH97DV"
      }
    },
    {
      "cell_type": "code",
      "execution_count": null,
      "metadata": {
        "colab": {
          "base_uri": "https://localhost:8080/"
        },
        "id": "6NX3DYcmL-ku",
        "outputId": "de710e8c-f288-4681-d162-5313836e9625"
      },
      "outputs": [
        {
          "output_type": "stream",
          "name": "stderr",
          "text": [
            "/usr/local/lib/python3.7/dist-packages/IPython/core/interactiveshell.py:3326: DtypeWarning: Columns (5,6,12,23,46,47,48,49,50) have mixed types.Specify dtype option on import or set low_memory=False.\n",
            "  exec(code_obj, self.user_global_ns, self.user_ns)\n"
          ]
        }
      ],
      "source": [
        "# создаем датасет для сравнения dataset1\n",
        "# dataset1 = pd.read_csv('region roles (26.05.22).csv')\n",
        "\n",
        "# создаем датасет для работы dataset2\n",
        "dataset2 = pd.read_csv('result roles (16.06.2022).csv')"
      ]
    },
    {
      "cell_type": "markdown",
      "source": [
        "##получим список полей"
      ],
      "metadata": {
        "id": "bBnnIJbl90Zx"
      }
    },
    {
      "cell_type": "code",
      "execution_count": null,
      "metadata": {
        "colab": {
          "base_uri": "https://localhost:8080/"
        },
        "id": "In0jecAfe3n1",
        "outputId": "56067838-4dac-4e73-e46c-9aab643b1b69"
      },
      "outputs": [
        {
          "output_type": "execute_result",
          "data": {
            "text/plain": [
              "Index(['Unnamed: 0', 'id', 'premium', 'name', 'department', 'has_test',\n",
              "       'response_letter_required', 'area', 'salary', 'type', 'published_at',\n",
              "       'created_at', 'archived', 'insider_interview', 'url', 'alternate_url',\n",
              "       'relations', 'employer', 'snippet', 'schedule', 'working_days',\n",
              "       'working_time_intervals', 'working_time_modes', 'accept_temporary',\n",
              "       'description', 'experience', 'key_skills', 'specializations', 'region',\n",
              "       'Unnamed: 29', 'Unnamed: 30', 'Unnamed: 31', 'Unnamed: 32',\n",
              "       'Unnamed: 33', 'Unnamed: 34', 'Unnamed: 35', 'Unnamed: 36',\n",
              "       'Unnamed: 37', 'Unnamed: 38', 'Unnamed: 39', 'Unnamed: 40',\n",
              "       'Unnamed: 41', 'Unnamed: 42', 'Unnamed: 43', 'Unnamed: 44',\n",
              "       'Unnamed: 45', 'Unnamed: 46', 'Unnamed: 47', 'Unnamed: 48',\n",
              "       'Unnamed: 49', 'Unnamed: 50'],\n",
              "      dtype='object')"
            ]
          },
          "metadata": {},
          "execution_count": 4
        }
      ],
      "source": [
        "# получим список полей\n",
        "dataset2.columns"
      ]
    },
    {
      "cell_type": "markdown",
      "source": [
        "##удаляем пустые, безимянные столбцы"
      ],
      "metadata": {
        "id": "tXvbPQlq9x0o"
      }
    },
    {
      "cell_type": "code",
      "execution_count": null,
      "metadata": {
        "colab": {
          "base_uri": "https://localhost:8080/"
        },
        "id": "YK-bqEXgnEIR",
        "outputId": "a471199d-899e-4de1-f727-0b4521f27a73"
      },
      "outputs": [
        {
          "output_type": "execute_result",
          "data": {
            "text/plain": [
              "Index(['id', 'premium', 'name', 'department', 'has_test',\n",
              "       'response_letter_required', 'area', 'salary', 'type', 'published_at',\n",
              "       'created_at', 'archived', 'insider_interview', 'url', 'alternate_url',\n",
              "       'relations', 'employer', 'snippet', 'schedule', 'working_days',\n",
              "       'working_time_intervals', 'working_time_modes', 'accept_temporary',\n",
              "       'description', 'experience', 'key_skills', 'specializations', 'region'],\n",
              "      dtype='object')"
            ]
          },
          "metadata": {},
          "execution_count": 5
        }
      ],
      "source": [
        "# удаляем пустые, безимянные столбцы\n",
        "for i in dataset2.columns:\n",
        "  if 'Unnamed: ' in i:\n",
        "    del dataset2[i]\n",
        "dataset2.columns"
      ]
    },
    {
      "cell_type": "markdown",
      "source": [
        "##размер датасет"
      ],
      "metadata": {
        "id": "xvvWvb_-9u0u"
      }
    },
    {
      "cell_type": "code",
      "execution_count": null,
      "metadata": {
        "colab": {
          "base_uri": "https://localhost:8080/"
        },
        "id": "bFma0K6mvJGh",
        "outputId": "bec663ef-13d4-4f4a-b10e-0e7f9637dd45"
      },
      "outputs": [
        {
          "output_type": "execute_result",
          "data": {
            "text/plain": [
              "(76382, 28)"
            ]
          },
          "metadata": {},
          "execution_count": 6
        }
      ],
      "source": [
        "# размер датасет\n",
        "dataset2.shape"
      ]
    },
    {
      "cell_type": "markdown",
      "source": [
        "##убираем дубликаты"
      ],
      "metadata": {
        "id": "wQEnBfrU9smW"
      }
    },
    {
      "cell_type": "code",
      "execution_count": null,
      "metadata": {
        "colab": {
          "base_uri": "https://localhost:8080/"
        },
        "outputId": "6d35abe4-da76-47a4-9f25-a2d7e60370d0",
        "id": "vFJ21dfZZhsn"
      },
      "outputs": [
        {
          "output_type": "execute_result",
          "data": {
            "text/plain": [
              "(76349, 28)"
            ]
          },
          "metadata": {},
          "execution_count": 7
        }
      ],
      "source": [
        "# убираем дубликаты\n",
        "dataset2 = dataset2.drop_duplicates()\n",
        "dataset2.shape"
      ]
    },
    {
      "cell_type": "markdown",
      "source": [
        "##количество пропусков по столбцам"
      ],
      "metadata": {
        "id": "sJUpwjWN9qCk"
      }
    },
    {
      "cell_type": "code",
      "execution_count": null,
      "metadata": {
        "colab": {
          "base_uri": "https://localhost:8080/"
        },
        "id": "KYJEMV7JxJ6Q",
        "outputId": "ba5f9c1b-6fe0-4f8c-c724-687da3cb9f40"
      },
      "outputs": [
        {
          "output_type": "stream",
          "name": "stdout",
          "text": [
            "id --- 0\n",
            "premium --- 0\n",
            "name --- 0\n",
            "department --- 71447\n",
            "has_test --- 2\n",
            "response_letter_required --- 0\n",
            "area --- 1\n",
            "salary --- 35481\n",
            "type --- 3\n",
            "published_at --- 2\n",
            "created_at --- 1\n",
            "archived --- 2\n",
            "insider_interview --- 75779\n",
            "url --- 2\n",
            "alternate_url --- 0\n",
            "relations --- 1\n",
            "employer --- 0\n",
            "snippet --- 1\n",
            "schedule --- 1\n",
            "working_days --- 1\n",
            "working_time_intervals --- 0\n",
            "working_time_modes --- 0\n",
            "accept_temporary --- 1\n",
            "description --- 0\n",
            "experience --- 0\n",
            "key_skills --- 1\n",
            "specializations --- 0\n",
            "region --- 0\n"
          ]
        }
      ],
      "source": [
        "# количество пропусков по столбцам\n",
        "for i in dataset2.columns:\n",
        "  print(i, '---', len(dataset2[pd.isnull(dataset2[i])]))"
      ]
    },
    {
      "cell_type": "markdown",
      "source": [
        "##количество не нулевых значений по столбцам через info()"
      ],
      "metadata": {
        "id": "ymQV0AJb9m-S"
      }
    },
    {
      "cell_type": "code",
      "execution_count": null,
      "metadata": {
        "colab": {
          "base_uri": "https://localhost:8080/"
        },
        "id": "0ik-gnT-MpQy",
        "outputId": "25a48334-034b-48d4-dd0d-b8e8416ecb7e"
      },
      "outputs": [
        {
          "output_type": "stream",
          "name": "stdout",
          "text": [
            "<class 'pandas.core.frame.DataFrame'>\n",
            "Int64Index: 76349 entries, 0 to 76381\n",
            "Data columns (total 28 columns):\n",
            " #   Column                    Non-Null Count  Dtype \n",
            "---  ------                    --------------  ----- \n",
            " 0   id                        76349 non-null  int64 \n",
            " 1   premium                   76349 non-null  bool  \n",
            " 2   name                      76349 non-null  object\n",
            " 3   department                4902 non-null   object\n",
            " 4   has_test                  76347 non-null  object\n",
            " 5   response_letter_required  76349 non-null  object\n",
            " 6   area                      76348 non-null  object\n",
            " 7   salary                    40868 non-null  object\n",
            " 8   type                      76346 non-null  object\n",
            " 9   published_at              76347 non-null  object\n",
            " 10  created_at                76348 non-null  object\n",
            " 11  archived                  76347 non-null  object\n",
            " 12  insider_interview         570 non-null    object\n",
            " 13  url                       76347 non-null  object\n",
            " 14  alternate_url             76349 non-null  object\n",
            " 15  relations                 76348 non-null  object\n",
            " 16  employer                  76349 non-null  object\n",
            " 17  snippet                   76348 non-null  object\n",
            " 18  schedule                  76348 non-null  object\n",
            " 19  working_days              76348 non-null  object\n",
            " 20  working_time_intervals    76349 non-null  object\n",
            " 21  working_time_modes        76349 non-null  object\n",
            " 22  accept_temporary          76348 non-null  object\n",
            " 23  description               76349 non-null  object\n",
            " 24  experience                76349 non-null  object\n",
            " 25  key_skills                76348 non-null  object\n",
            " 26  specializations           76349 non-null  object\n",
            " 27  region                    76349 non-null  object\n",
            "dtypes: bool(1), int64(1), object(26)\n",
            "memory usage: 16.4+ MB\n"
          ]
        }
      ],
      "source": [
        "# количество не нулевых значений по столбцам через info()\n",
        "dataset2.info()"
      ]
    },
    {
      "cell_type": "markdown",
      "source": [
        "##фильтрация полей с наличием зарплаты"
      ],
      "metadata": {
        "id": "uxaMRe0b9in4"
      }
    },
    {
      "cell_type": "code",
      "execution_count": null,
      "metadata": {
        "id": "N9o3XplB2IC9"
      },
      "outputs": [],
      "source": [
        "# фильтрация полей с наличием зарплаты\n",
        "salary_filter = ~pd.isnull(dataset2['salary'])\n",
        "filtered_dataset_salary = dataset2[salary_filter]"
      ]
    },
    {
      "cell_type": "markdown",
      "source": [
        "##Замена кавычек и операторов в соответсвии синтаксису json"
      ],
      "metadata": {
        "id": "7GDOuYzy9fme"
      }
    },
    {
      "cell_type": "code",
      "execution_count": null,
      "metadata": {
        "colab": {
          "base_uri": "https://localhost:8080/"
        },
        "id": "4IsPSjIM8db5",
        "outputId": "f55ef2d3-a6cf-4fcb-f55c-e76a4642197f"
      },
      "outputs": [
        {
          "output_type": "execute_result",
          "data": {
            "text/plain": [
              "4        {\"from\": 25000, \"to\": 50000, \"currency\": \"руб\"...\n",
              "5        {\"from\": 45000, \"to\": 45000, \"currency\": \"руб\"...\n",
              "8        {\"from\": 60000, \"to\": null, \"currency\": \"руб\",...\n",
              "9        {\"from\": 60000, \"to\": null, \"currency\": \"руб\",...\n",
              "10       {\"from\": 45000, \"to\": null, \"currency\": \"руб\",...\n",
              "                               ...                        \n",
              "76375    {\"from\": 45000, \"to\": null, \"currency\": \"руб\",...\n",
              "76377    {\"from\": 30000, \"to\": null, \"currency\": \"руб\",...\n",
              "76378    {\"from\": 40000, \"to\": null, \"currency\": \"руб\",...\n",
              "76380    {\"from\": 40000, \"to\": null, \"currency\": \"руб\",...\n",
              "76381    {\"from\": null, \"to\": 40300, \"currency\": \"руб\",...\n",
              "Name: salary, Length: 40868, dtype: object"
            ]
          },
          "metadata": {},
          "execution_count": 11
        }
      ],
      "source": [
        "# Замена кавычек и операторов в соответсвии синтаксису json\n",
        "\n",
        "def replaceing(text):\n",
        "  \"\"\"\n",
        "  Функция меняет одинарные кавычки на двойные, так же приводит булевые операторы \n",
        "  в соответьсьвие с синтаксисом json, меняет RUR на руб.\n",
        "  Применить только к столбцу salary!\n",
        "  \"\"\"\n",
        "  to_be_replaced = {'True': 'true', \n",
        "                    'False': 'false', \n",
        "                    'None': 'null', \n",
        "                    '\\'': '\"', \n",
        "                    'RUR': 'руб'}\n",
        "  while True: \n",
        "    for i in to_be_replaced:\n",
        "      text = re.sub(i, to_be_replaced[i], text)\n",
        "    return text\n",
        "\n",
        "filtered_dataset_salary['salary'].apply(replaceing)"
      ]
    },
    {
      "cell_type": "markdown",
      "source": [
        "##поиск ошибочных данных в столбце salary"
      ],
      "metadata": {
        "id": "S0bMXZbt9cp9"
      }
    },
    {
      "cell_type": "code",
      "execution_count": null,
      "metadata": {
        "colab": {
          "base_uri": "https://localhost:8080/"
        },
        "id": "yc_cZq3Ctn4c",
        "outputId": "51283819-ad56-4c31-fafc-d7e33a384080"
      },
      "outputs": [
        {
          "output_type": "execute_result",
          "data": {
            "text/plain": [
              "4        {\"from\": 25000, \"to\": 50000, \"currency\": \"руб\"...\n",
              "5        {\"from\": 45000, \"to\": 45000, \"currency\": \"руб\"...\n",
              "8        {\"from\": 60000, \"to\": null, \"currency\": \"руб\",...\n",
              "9        {\"from\": 60000, \"to\": null, \"currency\": \"руб\",...\n",
              "10       {\"from\": 45000, \"to\": null, \"currency\": \"руб\",...\n",
              "                               ...                        \n",
              "76375    {\"from\": 45000, \"to\": null, \"currency\": \"руб\",...\n",
              "76377    {\"from\": 30000, \"to\": null, \"currency\": \"руб\",...\n",
              "76378    {\"from\": 40000, \"to\": null, \"currency\": \"руб\",...\n",
              "76380    {\"from\": 40000, \"to\": null, \"currency\": \"руб\",...\n",
              "76381    {\"from\": null, \"to\": 40300, \"currency\": \"руб\",...\n",
              "Name: salary, Length: 40864, dtype: object"
            ]
          },
          "metadata": {},
          "execution_count": 12
        }
      ],
      "source": [
        "# поиск ошибочных данных в столбце salary\n",
        "_ = filtered_dataset_salary['salary'].apply(replaceing)#.head()\n",
        "cleaned_dataset_by_salary = pd.DataFrame()\n",
        "to_be_droped = []\n",
        "i = 0\n",
        "while i < len(_.index):\n",
        "    if \"from\" not in (_.iloc[i]):\n",
        "        to_be_droped.append(_.index[i])\n",
        "        #print(i, _.index[i], \"from\" in (_.iloc[i]))\n",
        "    i += 1\n",
        "cleaned_dataset_by_salary = _.drop(to_be_droped)\n",
        "cleaned_dataset_by_salary"
      ]
    },
    {
      "cell_type": "markdown",
      "source": [
        "##создания датасета salary загрузка длится около 5 мин"
      ],
      "metadata": {
        "id": "Bv3LyNLP9YuE"
      }
    },
    {
      "cell_type": "code",
      "execution_count": null,
      "metadata": {
        "id": "Un2-XtKt1JbC"
      },
      "outputs": [],
      "source": [
        "# создания датасета salary загрузка длится около 5 мин\n",
        "new_df_with_salary = pd.DataFrame(columns=['salary_index', 'salary_from', 'salary_to', 'salary_currency', 'salary_gross'])\n",
        "f, t, c, g = '', '', '', ''\n",
        "for i in cleaned_dataset_by_salary.index:\n",
        "    _ = re.sub(\"[{|}|'|\\\"]\",\"\", cleaned_dataset_by_salary[i])\n",
        "    __ = re.split(', ', _)\n",
        "    temp = []\n",
        "    temp_df = pd.DataFrame(columns=['salary_index', 'salary_from', 'salary_to', 'salary_currency', 'salary_gross'])\n",
        "    temp.append(i)\n",
        "    if 'from' in __[0]:\n",
        "        f = __[0][6:]\n",
        "        temp.append(f)\n",
        "    if \"to\" in __[1]:\n",
        "        t = __[1][4:]\n",
        "        temp.append(t)\n",
        "    if \"currency\" in __[2]:\n",
        "        c = __[2][10:]\n",
        "        temp.append(c)\n",
        "    if \"gross\" in __[3]:\n",
        "        g = __[3][7:]\n",
        "        temp.append(g)\n",
        "    row = pd.Series(temp, index=temp_df.columns)\n",
        "    new_df_with_salary = new_df_with_salary.append(row, ignore_index=True )"
      ]
    },
    {
      "cell_type": "markdown",
      "source": [
        "##резервная копия new_df_with_salary"
      ],
      "metadata": {
        "id": "OUcNBH9k9R2w"
      }
    },
    {
      "cell_type": "code",
      "execution_count": null,
      "metadata": {
        "id": "_6bkH4jldRNj"
      },
      "outputs": [],
      "source": [
        "# резервная копия new_df_with_salary\n",
        "correct_df_with_salary = new_df_with_salary"
      ]
    },
    {
      "cell_type": "markdown",
      "source": [
        "##преоброзование в int колонки salary_index"
      ],
      "metadata": {
        "id": "jGYB6L8Z9Gnq"
      }
    },
    {
      "cell_type": "code",
      "execution_count": null,
      "metadata": {
        "id": "Au5mt5yVOqrF"
      },
      "outputs": [],
      "source": [
        "# преоброзование в int колонки salary_index\n",
        "correct_df_with_salary['salary_index'] = correct_df_with_salary['salary_index'].astype(int)"
      ]
    },
    {
      "cell_type": "markdown",
      "source": [
        "##создаем пустые колонки в конечном датасете и заполняем NaN"
      ],
      "metadata": {
        "id": "8ob3fchY9DjJ"
      }
    },
    {
      "cell_type": "code",
      "execution_count": null,
      "metadata": {
        "id": "Qk3RGvaAy09L"
      },
      "outputs": [],
      "source": [
        "# создаем пустые колонки в конечном датасете и заполняем NaN\n",
        "final_dataset = dataset2\n",
        "final_dataset['salary_from'] = 'NaN'\n",
        "final_dataset['salary_to'] = 'NaN'\n",
        "final_dataset['salary_currency'] = 'NaN'\n",
        "final_dataset['salary_gross'] = 'NaN'"
      ]
    },
    {
      "cell_type": "markdown",
      "source": [
        "##заливаем данные из correct_df_with_salary в final_dataset грузит около 2 мин"
      ],
      "metadata": {
        "id": "b5llpQml8-JO"
      }
    },
    {
      "cell_type": "code",
      "execution_count": null,
      "metadata": {
        "id": "kPS7xmY0dlFm",
        "colab": {
          "base_uri": "https://localhost:8080/"
        },
        "outputId": "11823be3-7960-4737-d776-3741003945ee"
      },
      "outputs": [
        {
          "output_type": "stream",
          "name": "stderr",
          "text": [
            "/usr/local/lib/python3.7/dist-packages/pandas/core/indexing.py:1732: SettingWithCopyWarning: \n",
            "A value is trying to be set on a copy of a slice from a DataFrame\n",
            "\n",
            "See the caveats in the documentation: https://pandas.pydata.org/pandas-docs/stable/user_guide/indexing.html#returning-a-view-versus-a-copy\n",
            "  self._setitem_single_block(indexer, value, name)\n"
          ]
        }
      ],
      "source": [
        "# заливаем данные из correct_df_with_salary в final_dataset грузит около 2 мин\n",
        "j = 0\n",
        "for i in range(len(final_dataset)):\n",
        "    if i in correct_df_with_salary['salary_index'].values:\n",
        "        final_dataset['salary_from'].loc[i] = correct_df_with_salary['salary_from'].loc[j]\n",
        "        final_dataset['salary_to'].loc[i] = correct_df_with_salary['salary_to'].loc[j]\n",
        "        final_dataset['salary_currency'].loc[i] = correct_df_with_salary['salary_currency'].loc[j]\n",
        "        final_dataset['salary_gross'].loc[i] = correct_df_with_salary['salary_gross'].loc[j]\n",
        "        j += 1"
      ]
    },
    {
      "cell_type": "markdown",
      "source": [
        "##перевод столбцов в числовой тип"
      ],
      "metadata": {
        "id": "AVxD8bBo86QG"
      }
    },
    {
      "cell_type": "code",
      "execution_count": null,
      "metadata": {
        "id": "W6APZc9cv5WC"
      },
      "outputs": [],
      "source": [
        "# перевод столбцов в числовой тип\n",
        "# final_dataset['salary_from'] = pd.to_numeric(final_dataset['salary_from'], errors='coerce')\n",
        "final_dataset['salary_from'] = pd.to_numeric(final_dataset['salary_from'], errors='coerce').astype('Int64')\n",
        "\n",
        "# final_dataset['salary_to'] = pd.to_numeric(final_dataset['salary_to'], errors='coerce')\n",
        "final_dataset['salary_to'] = pd.to_numeric(final_dataset['salary_to'], errors='coerce').astype('Int64')"
      ]
    },
    {
      "cell_type": "markdown",
      "source": [
        "##фильтр убирающая пустые ячейки salary_from и salary_to"
      ],
      "metadata": {
        "id": "yvQleCLp82UC"
      }
    },
    {
      "cell_type": "code",
      "execution_count": null,
      "metadata": {
        "colab": {
          "base_uri": "https://localhost:8080/"
        },
        "id": "n8gg7JQoxVKN",
        "outputId": "e6c8cd70-2f52-4866-f6e0-f41755f0c7de"
      },
      "outputs": [
        {
          "output_type": "stream",
          "name": "stdout",
          "text": [
            "<class 'pandas.core.frame.DataFrame'>\n",
            "Int64Index: 18058 entries, 4 to 76348\n",
            "Data columns (total 32 columns):\n",
            " #   Column                    Non-Null Count  Dtype \n",
            "---  ------                    --------------  ----- \n",
            " 0   id                        18058 non-null  int64 \n",
            " 1   premium                   18058 non-null  bool  \n",
            " 2   name                      18058 non-null  object\n",
            " 3   department                302 non-null    object\n",
            " 4   has_test                  18058 non-null  object\n",
            " 5   response_letter_required  18058 non-null  object\n",
            " 6   area                      18058 non-null  object\n",
            " 7   salary                    18058 non-null  object\n",
            " 8   type                      18058 non-null  object\n",
            " 9   published_at              18058 non-null  object\n",
            " 10  created_at                18058 non-null  object\n",
            " 11  archived                  18058 non-null  object\n",
            " 12  insider_interview         20 non-null     object\n",
            " 13  url                       18058 non-null  object\n",
            " 14  alternate_url             18058 non-null  object\n",
            " 15  relations                 18058 non-null  object\n",
            " 16  employer                  18058 non-null  object\n",
            " 17  snippet                   18058 non-null  object\n",
            " 18  schedule                  18058 non-null  object\n",
            " 19  working_days              18058 non-null  object\n",
            " 20  working_time_intervals    18058 non-null  object\n",
            " 21  working_time_modes        18058 non-null  object\n",
            " 22  accept_temporary          18058 non-null  object\n",
            " 23  description               18058 non-null  object\n",
            " 24  experience                18058 non-null  object\n",
            " 25  key_skills                18058 non-null  object\n",
            " 26  specializations           18058 non-null  object\n",
            " 27  region                    18058 non-null  object\n",
            " 28  salary_from               18058 non-null  Int64 \n",
            " 29  salary_to                 18058 non-null  Int64 \n",
            " 30  salary_currency           18058 non-null  object\n",
            " 31  salary_gross              18058 non-null  object\n",
            "dtypes: Int64(2), bool(1), int64(1), object(28)\n",
            "memory usage: 4.5+ MB\n"
          ]
        },
        {
          "output_type": "stream",
          "name": "stderr",
          "text": [
            "/usr/local/lib/python3.7/dist-packages/ipykernel_launcher.py:4: UserWarning: Boolean Series key will be reindexed to match DataFrame index.\n",
            "  after removing the cwd from sys.path.\n"
          ]
        }
      ],
      "source": [
        "# фильтр убирающая пустые ячейки\n",
        "filter1 = ~pd.isnull(final_dataset['salary_from']) | ~pd.isna(final_dataset['salary_from'])\n",
        "filter2 = ~pd.isnull(final_dataset['salary_to']) | ~pd.isna(final_dataset['salary_to'])\n",
        "final_dataset[filter1][filter2].info()"
      ]
    },
    {
      "cell_type": "markdown",
      "source": [
        "## salary_from"
      ],
      "metadata": {
        "id": "A8rAzLDB466O"
      }
    },
    {
      "cell_type": "code",
      "source": [
        "final_dataset['salary_from']"
      ],
      "metadata": {
        "colab": {
          "base_uri": "https://localhost:8080/"
        },
        "id": "XRb56_AI4x-1",
        "outputId": "22043d22-b6f1-4afc-c7e3-134bf9e8c23d"
      },
      "execution_count": null,
      "outputs": [
        {
          "output_type": "execute_result",
          "data": {
            "text/plain": [
              "0         <NA>\n",
              "1         <NA>\n",
              "2         <NA>\n",
              "3         <NA>\n",
              "4        25000\n",
              "         ...  \n",
              "76377     <NA>\n",
              "76378     <NA>\n",
              "76379     <NA>\n",
              "76380     <NA>\n",
              "76381     <NA>\n",
              "Name: salary_from, Length: 76349, dtype: Int64"
            ]
          },
          "metadata": {},
          "execution_count": 20
        }
      ]
    },
    {
      "cell_type": "markdown",
      "source": [
        "## salary_to"
      ],
      "metadata": {
        "id": "ylT3evlM5bh_"
      }
    },
    {
      "cell_type": "code",
      "source": [
        "final_dataset['salary_to']"
      ],
      "metadata": {
        "colab": {
          "base_uri": "https://localhost:8080/"
        },
        "id": "Nqg1Rqq_5iW5",
        "outputId": "ed28f7a9-ed69-4f7d-9e37-1c476bf19de8"
      },
      "execution_count": null,
      "outputs": [
        {
          "output_type": "execute_result",
          "data": {
            "text/plain": [
              "0         <NA>\n",
              "1         <NA>\n",
              "2         <NA>\n",
              "3         <NA>\n",
              "4        50000\n",
              "         ...  \n",
              "76377     <NA>\n",
              "76378     <NA>\n",
              "76379     <NA>\n",
              "76380     <NA>\n",
              "76381     <NA>\n",
              "Name: salary_to, Length: 76349, dtype: Int64"
            ]
          },
          "metadata": {},
          "execution_count": 21
        }
      ]
    },
    {
      "cell_type": "markdown",
      "source": [
        "## name"
      ],
      "metadata": {
        "id": "RRasihqg8U1Y"
      }
    },
    {
      "cell_type": "code",
      "execution_count": null,
      "metadata": {
        "id": "d1PtGXnpztov"
      },
      "outputs": [],
      "source": [
        "# наименований всех вакансий в датасете - name\n",
        "vacancies = final_dataset['name'].values"
      ]
    },
    {
      "cell_type": "code",
      "source": [
        "final_dataset['name'].value_counts()"
      ],
      "metadata": {
        "colab": {
          "base_uri": "https://localhost:8080/"
        },
        "id": "NRpvMdLZgbyp",
        "outputId": "6860e763-fdd6-4690-8114-16f5262fe6b5"
      },
      "execution_count": null,
      "outputs": [
        {
          "output_type": "execute_result",
          "data": {
            "text/plain": [
              "Системный администратор                                             1887\n",
              "Программист 1С                                                      1254\n",
              "Менеджер по персоналу                                                699\n",
              "Системный аналитик                                                   564\n",
              "Менеджер по подбору персонала                                        549\n",
              "                                                                    ... \n",
              "HR менеджер в единственном лице                                        1\n",
              "Ведущий специалист отдела подбора и адаптации (Executive Search)       1\n",
              "HR Business Partner/HR Director (Рига, Москва)                         1\n",
              "Младший HR менеджер / Младший специалист по адаптации персонала        1\n",
              "Начальник бюро подбора персонала                                       1\n",
              "Name: name, Length: 34131, dtype: int64"
            ]
          },
          "metadata": {},
          "execution_count": 23
        }
      ]
    },
    {
      "cell_type": "code",
      "source": [
        "# print(len(set(vacancies)))\n",
        "# set(vacancies)"
      ],
      "metadata": {
        "id": "7mUBZjCd8r3D"
      },
      "execution_count": null,
      "outputs": []
    },
    {
      "cell_type": "markdown",
      "source": [
        "## regions list"
      ],
      "metadata": {
        "id": "SpX7vCdG8j85"
      }
    },
    {
      "cell_type": "code",
      "source": [
        "regions_list = ['Алтайский край',\n",
        " 'Амурская область',\n",
        " 'Архангельская область',\n",
        " 'Астраханская область',\n",
        " 'Белгородская область',\n",
        " 'Брянская область',\n",
        " 'Владимирская область',\n",
        " 'Волгоградская область',\n",
        " 'Вологодская область',\n",
        " 'Воронежская область',\n",
        " 'Еврейская АО',\n",
        " 'Забайкальский край',\n",
        " 'Ивановская область',\n",
        " 'Иркутская область',\n",
        " 'КИНГФИТ&quot',\n",
        " 'Кабардино-Балкарская республика',\n",
        " 'Калининградская область',\n",
        " 'Калужская область',\n",
        " 'Камчатский край',\n",
        " 'Карачаево-Черкесская Республика',\n",
        " 'Кемеровская область',\n",
        " 'Кировская область',\n",
        " 'Костромская область',\n",
        " 'Краснодарский край',\n",
        " 'Красноярский край',\n",
        " 'Курганская область',\n",
        " 'Курская область',\n",
        " 'Ленинградская область',\n",
        " 'Липецкая область',\n",
        " 'Магаданская область',\n",
        " 'Москва',\n",
        " 'Московская область',\n",
        " 'Мурманская область',\n",
        " 'Ненецкий АО',\n",
        " 'Нижегородская область',\n",
        " 'Новгородская область',\n",
        " 'Новосибирская область',\n",
        " 'Омская область',\n",
        " 'Оренбургская область',\n",
        " 'Орловская область',\n",
        " 'Пензенская область',\n",
        " 'Пермский край',\n",
        " 'Приморский край',\n",
        " 'Псковская область',\n",
        " 'Республика Адыгея',\n",
        " 'Республика Алтай',\n",
        " 'Республика Башкортостан',\n",
        " 'Республика Бурятия',\n",
        " 'Республика Дагестан',\n",
        " 'Республика Ингушетия',\n",
        " 'Республика Калмыкия',\n",
        " 'Республика Карелия',\n",
        " 'Республика Коми',\n",
        " 'Республика Крым',\n",
        " 'Республика Марий Эл',\n",
        " 'Республика Мордовия',\n",
        " 'Республика Саха (Якутия)',\n",
        " 'Республика Северная Осетия-Алания',\n",
        " 'Республика Татарстан',\n",
        " 'Республика Тыва',\n",
        " 'Республика Хакасия',\n",
        " 'Ростовская область',\n",
        " 'Рязанская область',\n",
        " 'Самарская область',\n",
        " 'Санкт-Петербург',\n",
        " 'Саратовская область',\n",
        " 'Сахалинская область',\n",
        " 'Свердловская область',\n",
        " 'Смоленская область',\n",
        " 'Ставропольский край',\n",
        " 'Тамбовская область',\n",
        " 'Тверская область',\n",
        " 'Томская область',\n",
        " 'Тульская область',\n",
        " 'Тюменская область',\n",
        " 'Удмуртская Республика',\n",
        " 'Ульяновская область',\n",
        " 'Фантазия&quot',\n",
        " 'Хабаровский край',\n",
        " 'Ханты-Мансийский АО - Югра',\n",
        " 'Челябинская область',\n",
        " 'Чеченская республика',\n",
        " 'Чувашская Республика',\n",
        " 'Чукотский АО',\n",
        " 'Ямало-Ненецкий АО',\n",
        " 'Ярославская область']"
      ],
      "metadata": {
        "id": "ZZ9uYwbZIBUj"
      },
      "execution_count": null,
      "outputs": []
    },
    {
      "cell_type": "markdown",
      "source": [
        "##region"
      ],
      "metadata": {
        "id": "jIwLYxTiLzal"
      }
    },
    {
      "cell_type": "code",
      "source": [
        "filter_reg = ~final_dataset['region'].str.contains('\\[\\<', regex=True)\n",
        "temp_reg = final_dataset[filter_reg]"
      ],
      "metadata": {
        "id": "m3nmYEPEAvYO"
      },
      "execution_count": null,
      "outputs": []
    },
    {
      "cell_type": "code",
      "execution_count": null,
      "metadata": {
        "id": "quvYrfQOal1M",
        "colab": {
          "base_uri": "https://localhost:8080/"
        },
        "outputId": "d2c57d5f-e5a7-4af3-d332-01e286f69af0"
      },
      "outputs": [
        {
          "output_type": "execute_result",
          "data": {
            "text/plain": [
              "Район                \n",
              "Алтайский край           1\n",
              "Республика Марий Эл      1\n",
              "Рязанская область        1\n",
              "Ростовская область       1\n",
              "Республика Хакасия       1\n",
              "                        ..\n",
              "Ленинградская область    1\n",
              "Курская область          1\n",
              "Курганская область       1\n",
              "Красноярский край        1\n",
              "Ярославская область      1\n",
              "Length: 86, dtype: int64"
            ]
          },
          "metadata": {},
          "execution_count": 27
        }
      ],
      "source": [
        "# наименований всех регионов в датасете - region\n",
        "pd.DataFrame(regions_list, columns=['Район']).value_counts()"
      ]
    },
    {
      "cell_type": "markdown",
      "source": [
        "## area"
      ],
      "metadata": {
        "id": "vgjrPyYa8glH"
      }
    },
    {
      "cell_type": "code",
      "execution_count": null,
      "metadata": {
        "id": "xOVusuFB2VDD"
      },
      "outputs": [],
      "source": [
        "# наименований всех городов в датасете - area\n",
        "areas_list = []\n",
        "areas = final_dataset['area']\n",
        "for i in range(len(final_dataset)):\n",
        "    try:\n",
        "        areas_list.append(eval(areas.iloc[i])['name'])\n",
        "    except:\n",
        "        pass"
      ]
    },
    {
      "cell_type": "code",
      "source": [
        "pd.DataFrame(areas_list, columns=['Город']).value_counts()"
      ],
      "metadata": {
        "colab": {
          "base_uri": "https://localhost:8080/"
        },
        "id": "i4v6v4CNbQMd",
        "outputId": "df847e85-7021-44b1-ac91-31acc5d06d4f"
      },
      "execution_count": null,
      "outputs": [
        {
          "output_type": "execute_result",
          "data": {
            "text/plain": [
              "Город                      \n",
              "Москва                         21831\n",
              "Санкт-Петербург                 8956\n",
              "Екатеринбург                    2660\n",
              "Новосибирск                     2630\n",
              "Казань                          2187\n",
              "                               ...  \n",
              "Полтавка                           1\n",
              "Полотняный Завод                   1\n",
              "Полесск                            1\n",
              "Крапивна (Тульская область)        1\n",
              "Благодарный                        1\n",
              "Length: 1181, dtype: int64"
            ]
          },
          "metadata": {},
          "execution_count": 29
        }
      ]
    },
    {
      "cell_type": "markdown",
      "source": [
        "## published_at"
      ],
      "metadata": {
        "id": "TA4nTGz58ced"
      }
    },
    {
      "cell_type": "code",
      "source": [
        "# наименований всех дат в датасете - published_at\n",
        "final_dataset['published_at']"
      ],
      "metadata": {
        "colab": {
          "base_uri": "https://localhost:8080/"
        },
        "id": "Nqmu4Ei_WtBV",
        "outputId": "2e9bf312-2b3d-419a-9cda-6c7e08da0e26"
      },
      "execution_count": null,
      "outputs": [
        {
          "output_type": "execute_result",
          "data": {
            "text/plain": [
              "0        2022-03-28T09:08:00+0300\n",
              "1        2022-04-01T08:52:06+0300\n",
              "2        2022-03-29T15:20:02+0300\n",
              "3        2022-03-29T15:37:33+0300\n",
              "4        2022-04-07T12:35:39+0300\n",
              "                   ...           \n",
              "76377    2022-04-04T11:00:58+0300\n",
              "76378    2022-04-05T09:04:24+0300\n",
              "76379    2022-04-06T11:28:24+0300\n",
              "76380    2022-04-06T13:45:57+0300\n",
              "76381    2022-04-11T18:05:36+0300\n",
              "Name: published_at, Length: 76349, dtype: object"
            ]
          },
          "metadata": {},
          "execution_count": 30
        }
      ]
    },
    {
      "cell_type": "markdown",
      "metadata": {
        "id": "JZnfQ3Ey0N3T"
      },
      "source": [
        "##key_skills"
      ]
    },
    {
      "cell_type": "code",
      "source": [
        "try:\n",
        "    filter_key = ~final_dataset['key_skills'].astype(str).str.contains('\\<', regex=True)\n",
        "except:\n",
        "    print(final_dataset['key_skills'])"
      ],
      "metadata": {
        "id": "ZAwRr6ZmyJgb"
      },
      "execution_count": null,
      "outputs": []
    },
    {
      "cell_type": "code",
      "source": [
        "# наименований всех навыков в датасете - key_skills\n",
        "key_skills = []\n",
        "for i in final_dataset['key_skills'][filter_key]:\n",
        "    try:\n",
        "        for j in eval(i):\n",
        "            key_skills.append(j['name'])\n",
        "    except:\n",
        "        pass"
      ],
      "metadata": {
        "id": "J1YI2wfEEAZ0"
      },
      "execution_count": null,
      "outputs": []
    },
    {
      "cell_type": "code",
      "source": [
        "pd.DataFrame(key_skills, columns=['Навыки']).value_counts()"
      ],
      "metadata": {
        "colab": {
          "base_uri": "https://localhost:8080/"
        },
        "id": "5xiIdMRaV6y6",
        "outputId": "d437540e-2f67-4a92-add5-35e81f1560ba"
      },
      "execution_count": null,
      "outputs": [
        {
          "output_type": "execute_result",
          "data": {
            "text/plain": [
              "Навыки                                                                                             \n",
              "Работа в команде                                                                                       8522\n",
              "SQL                                                                                                    7322\n",
              "Грамотная речь                                                                                         6979\n",
              "Linux                                                                                                  5348\n",
              "Git                                                                                                    5149\n",
              "                                                                                                       ... \n",
              "enterprise                                                                                                1\n",
              "entity framework core                                                                                     1\n",
              "es5                                                                                                       1\n",
              "ethernet                                                                                                  1\n",
              " Знание технологий и навыков работы с данными;  Базовые знания предметной области;  Знание тренд       1\n",
              "Length: 15540, dtype: int64"
            ]
          },
          "metadata": {},
          "execution_count": 33
        }
      ]
    },
    {
      "cell_type": "markdown",
      "metadata": {
        "id": "-a9inI57zt3z"
      },
      "source": [
        "##specialization"
      ]
    },
    {
      "cell_type": "code",
      "execution_count": null,
      "metadata": {
        "id": "ib77UFvmlYKR"
      },
      "outputs": [],
      "source": [
        "filter_spec = ~final_dataset['specializations'].str.contains('<', regex=False)\n",
        "temp_spec = final_dataset[filter_spec]"
      ]
    },
    {
      "cell_type": "code",
      "source": [
        "# наименований всех спецальностей в датасете - specialization.profarea_name\n",
        "specializations = []\n",
        "for i in range(len(final_dataset['specializations'].values)):\n",
        "    try:\n",
        "        for j in eval(temp_spec['specializations'].iloc[i]):\n",
        "            specializations.append(j['profarea_name'])\n",
        "    except:\n",
        "        # print(i)\n",
        "        pass"
      ],
      "metadata": {
        "id": "u1Z4hskzPJdv"
      },
      "execution_count": null,
      "outputs": []
    },
    {
      "cell_type": "code",
      "source": [
        "list_spec_df = pd.DataFrame(specializations, columns=['Специальность'])\n",
        "list_spec_df.value_counts()"
      ],
      "metadata": {
        "colab": {
          "base_uri": "https://localhost:8080/"
        },
        "id": "GdhGgA0XT_jI",
        "outputId": "eadb8761-31c9-4a84-bc2f-09cf7b622c18"
      },
      "execution_count": null,
      "outputs": [
        {
          "output_type": "execute_result",
          "data": {
            "text/plain": [
              "Специальность                                        \n",
              "Информационные технологии, интернет, телеком             202979\n",
              "Управление персоналом, тренинги                           32402\n",
              "Продажи                                                   25604\n",
              "Маркетинг, реклама, PR                                    22079\n",
              "Консультирование                                          13913\n",
              "Строительство, недвижимость                                7735\n",
              "Искусство, развлечения, масс-медиа                         3273\n",
              "Спортивные клубы, фитнес, салоны красоты                   1720\n",
              "Высший менеджмент                                          1560\n",
              "Начало карьеры, студенты                                    768\n",
              "Банки, инвестиции, лизинг                                   321\n",
              "Производство, сельское хозяйство                            320\n",
              "Административный персонал                                   293\n",
              "Бухгалтерия, управленческий учет, финансы предприятия       146\n",
              "Безопасность                                                133\n",
              "Наука, образование                                          112\n",
              "Автомобильный бизнес                                         83\n",
              "Юристы                                                       83\n",
              "Инсталляция и сервис                                         77\n",
              "Туризм, гостиницы, рестораны                                 72\n",
              "Медицина, фармацевтика                                       66\n",
              "Страхование                                                  57\n",
              "Добыча сырья                                                 35\n",
              "Закупки                                                      33\n",
              "Транспорт, логистика                                         33\n",
              "Государственная служба, некоммерческие организации           24\n",
              "Рабочий персонал                                              8\n",
              "dtype: int64"
            ]
          },
          "metadata": {},
          "execution_count": 36
        }
      ]
    },
    {
      "cell_type": "markdown",
      "source": [
        "##employer"
      ],
      "metadata": {
        "id": "S3z2Hv9Z6Fo7"
      }
    },
    {
      "cell_type": "code",
      "source": [
        "employer = []"
      ],
      "metadata": {
        "id": "taC7clH36tMe"
      },
      "execution_count": null,
      "outputs": []
    },
    {
      "cell_type": "code",
      "source": [
        "for i in range(len(final_dataset['employer'].values)):\n",
        "    try:\n",
        "        employer.append(eval(final_dataset['employer'].iloc[i])['name'])\n",
        "    except:\n",
        "        pass\n",
        "list_employer_df = pd.DataFrame(employer, columns=['Работадатель'])"
      ],
      "metadata": {
        "id": "Xx410l0u51j1"
      },
      "execution_count": null,
      "outputs": []
    },
    {
      "cell_type": "code",
      "source": [
        "list_employer_df.value_counts()"
      ],
      "metadata": {
        "colab": {
          "base_uri": "https://localhost:8080/"
        },
        "id": "XPYaJYtV857H",
        "outputId": "ec2f731a-85d5-4faf-dd16-be09ed453c05"
      },
      "execution_count": null,
      "outputs": [
        {
          "output_type": "execute_result",
          "data": {
            "text/plain": [
              "Работадатель \n",
              "Яндекс           1758\n",
              "Ростелеком        577\n",
              "Газпром нефть     528\n",
              "Тинькофф          509\n",
              "Сбербанк          497\n",
              "                 ... \n",
              "ИВЦ ЖКХ и ТЭК       1\n",
              "ИГИИС               1\n",
              "ИГРО                1\n",
              "ИГТЕЛ               1\n",
              "“Куб Бьюти”         1\n",
              "Length: 20609, dtype: int64"
            ]
          },
          "metadata": {},
          "execution_count": 39
        }
      ]
    },
    {
      "cell_type": "markdown",
      "source": [
        "## Какова средняя зарплата по специальностям?\n"
      ],
      "metadata": {
        "id": "YMWnH3cyhBGb"
      }
    },
    {
      "cell_type": "code",
      "source": [
        "specializations # специальности\n",
        "final_dataset[['salary_from', 'salary_to']].dropna()"
      ],
      "metadata": {
        "id": "YdE_JImIlD3C",
        "colab": {
          "base_uri": "https://localhost:8080/",
          "height": 456
        },
        "outputId": "3c26d67f-c972-4e18-8b5f-dc308ce9b370"
      },
      "execution_count": null,
      "outputs": [
        {
          "output_type": "execute_result",
          "data": {
            "text/plain": [
              "       salary_from  salary_to\n",
              "4            25000      50000\n",
              "5            45000      45000\n",
              "11           60000     150000\n",
              "13           80000     120000\n",
              "15           30000      90000\n",
              "...            ...        ...\n",
              "76329        40000      60000\n",
              "76332       180000     220000\n",
              "76342        30000      35000\n",
              "76345        35000      45000\n",
              "76348        34600      34600\n",
              "\n",
              "[18058 rows x 2 columns]"
            ],
            "text/html": [
              "\n",
              "  <div id=\"df-bdcd778e-907d-4705-a48c-defb72731f19\">\n",
              "    <div class=\"colab-df-container\">\n",
              "      <div>\n",
              "<style scoped>\n",
              "    .dataframe tbody tr th:only-of-type {\n",
              "        vertical-align: middle;\n",
              "    }\n",
              "\n",
              "    .dataframe tbody tr th {\n",
              "        vertical-align: top;\n",
              "    }\n",
              "\n",
              "    .dataframe thead th {\n",
              "        text-align: right;\n",
              "    }\n",
              "</style>\n",
              "<table border=\"1\" class=\"dataframe\">\n",
              "  <thead>\n",
              "    <tr style=\"text-align: right;\">\n",
              "      <th></th>\n",
              "      <th>salary_from</th>\n",
              "      <th>salary_to</th>\n",
              "    </tr>\n",
              "  </thead>\n",
              "  <tbody>\n",
              "    <tr>\n",
              "      <th>4</th>\n",
              "      <td>25000</td>\n",
              "      <td>50000</td>\n",
              "    </tr>\n",
              "    <tr>\n",
              "      <th>5</th>\n",
              "      <td>45000</td>\n",
              "      <td>45000</td>\n",
              "    </tr>\n",
              "    <tr>\n",
              "      <th>11</th>\n",
              "      <td>60000</td>\n",
              "      <td>150000</td>\n",
              "    </tr>\n",
              "    <tr>\n",
              "      <th>13</th>\n",
              "      <td>80000</td>\n",
              "      <td>120000</td>\n",
              "    </tr>\n",
              "    <tr>\n",
              "      <th>15</th>\n",
              "      <td>30000</td>\n",
              "      <td>90000</td>\n",
              "    </tr>\n",
              "    <tr>\n",
              "      <th>...</th>\n",
              "      <td>...</td>\n",
              "      <td>...</td>\n",
              "    </tr>\n",
              "    <tr>\n",
              "      <th>76329</th>\n",
              "      <td>40000</td>\n",
              "      <td>60000</td>\n",
              "    </tr>\n",
              "    <tr>\n",
              "      <th>76332</th>\n",
              "      <td>180000</td>\n",
              "      <td>220000</td>\n",
              "    </tr>\n",
              "    <tr>\n",
              "      <th>76342</th>\n",
              "      <td>30000</td>\n",
              "      <td>35000</td>\n",
              "    </tr>\n",
              "    <tr>\n",
              "      <th>76345</th>\n",
              "      <td>35000</td>\n",
              "      <td>45000</td>\n",
              "    </tr>\n",
              "    <tr>\n",
              "      <th>76348</th>\n",
              "      <td>34600</td>\n",
              "      <td>34600</td>\n",
              "    </tr>\n",
              "  </tbody>\n",
              "</table>\n",
              "<p>18058 rows × 2 columns</p>\n",
              "</div>\n",
              "      <button class=\"colab-df-convert\" onclick=\"convertToInteractive('df-bdcd778e-907d-4705-a48c-defb72731f19')\"\n",
              "              title=\"Convert this dataframe to an interactive table.\"\n",
              "              style=\"display:none;\">\n",
              "        \n",
              "  <svg xmlns=\"http://www.w3.org/2000/svg\" height=\"24px\"viewBox=\"0 0 24 24\"\n",
              "       width=\"24px\">\n",
              "    <path d=\"M0 0h24v24H0V0z\" fill=\"none\"/>\n",
              "    <path d=\"M18.56 5.44l.94 2.06.94-2.06 2.06-.94-2.06-.94-.94-2.06-.94 2.06-2.06.94zm-11 1L8.5 8.5l.94-2.06 2.06-.94-2.06-.94L8.5 2.5l-.94 2.06-2.06.94zm10 10l.94 2.06.94-2.06 2.06-.94-2.06-.94-.94-2.06-.94 2.06-2.06.94z\"/><path d=\"M17.41 7.96l-1.37-1.37c-.4-.4-.92-.59-1.43-.59-.52 0-1.04.2-1.43.59L10.3 9.45l-7.72 7.72c-.78.78-.78 2.05 0 2.83L4 21.41c.39.39.9.59 1.41.59.51 0 1.02-.2 1.41-.59l7.78-7.78 2.81-2.81c.8-.78.8-2.07 0-2.86zM5.41 20L4 18.59l7.72-7.72 1.47 1.35L5.41 20z\"/>\n",
              "  </svg>\n",
              "      </button>\n",
              "      \n",
              "  <style>\n",
              "    .colab-df-container {\n",
              "      display:flex;\n",
              "      flex-wrap:wrap;\n",
              "      gap: 12px;\n",
              "    }\n",
              "\n",
              "    .colab-df-convert {\n",
              "      background-color: #E8F0FE;\n",
              "      border: none;\n",
              "      border-radius: 50%;\n",
              "      cursor: pointer;\n",
              "      display: none;\n",
              "      fill: #1967D2;\n",
              "      height: 32px;\n",
              "      padding: 0 0 0 0;\n",
              "      width: 32px;\n",
              "    }\n",
              "\n",
              "    .colab-df-convert:hover {\n",
              "      background-color: #E2EBFA;\n",
              "      box-shadow: 0px 1px 2px rgba(60, 64, 67, 0.3), 0px 1px 3px 1px rgba(60, 64, 67, 0.15);\n",
              "      fill: #174EA6;\n",
              "    }\n",
              "\n",
              "    [theme=dark] .colab-df-convert {\n",
              "      background-color: #3B4455;\n",
              "      fill: #D2E3FC;\n",
              "    }\n",
              "\n",
              "    [theme=dark] .colab-df-convert:hover {\n",
              "      background-color: #434B5C;\n",
              "      box-shadow: 0px 1px 3px 1px rgba(0, 0, 0, 0.15);\n",
              "      filter: drop-shadow(0px 1px 2px rgba(0, 0, 0, 0.3));\n",
              "      fill: #FFFFFF;\n",
              "    }\n",
              "  </style>\n",
              "\n",
              "      <script>\n",
              "        const buttonEl =\n",
              "          document.querySelector('#df-bdcd778e-907d-4705-a48c-defb72731f19 button.colab-df-convert');\n",
              "        buttonEl.style.display =\n",
              "          google.colab.kernel.accessAllowed ? 'block' : 'none';\n",
              "\n",
              "        async function convertToInteractive(key) {\n",
              "          const element = document.querySelector('#df-bdcd778e-907d-4705-a48c-defb72731f19');\n",
              "          const dataTable =\n",
              "            await google.colab.kernel.invokeFunction('convertToInteractive',\n",
              "                                                     [key], {});\n",
              "          if (!dataTable) return;\n",
              "\n",
              "          const docLinkHtml = 'Like what you see? Visit the ' +\n",
              "            '<a target=\"_blank\" href=https://colab.research.google.com/notebooks/data_table.ipynb>data table notebook</a>'\n",
              "            + ' to learn more about interactive tables.';\n",
              "          element.innerHTML = '';\n",
              "          dataTable['output_type'] = 'display_data';\n",
              "          await google.colab.output.renderOutput(dataTable, element);\n",
              "          const docLink = document.createElement('div');\n",
              "          docLink.innerHTML = docLinkHtml;\n",
              "          element.appendChild(docLink);\n",
              "        }\n",
              "      </script>\n",
              "    </div>\n",
              "  </div>\n",
              "  "
            ]
          },
          "metadata": {},
          "execution_count": 48
        }
      ]
    },
    {
      "cell_type": "code",
      "source": [],
      "metadata": {
        "id": "RwEHBy-lymPv"
      },
      "execution_count": null,
      "outputs": []
    },
    {
      "cell_type": "code",
      "source": [],
      "metadata": {
        "id": "-1fcQqOkymMo"
      },
      "execution_count": null,
      "outputs": []
    },
    {
      "cell_type": "code",
      "source": [],
      "metadata": {
        "id": "rJ2nmsgvymJw"
      },
      "execution_count": null,
      "outputs": []
    },
    {
      "cell_type": "code",
      "source": [],
      "metadata": {
        "id": "YiXC3yvmymHq"
      },
      "execution_count": null,
      "outputs": []
    },
    {
      "cell_type": "code",
      "source": [],
      "metadata": {
        "id": "0yeP-7SJymEi"
      },
      "execution_count": null,
      "outputs": []
    },
    {
      "cell_type": "code",
      "source": [],
      "metadata": {
        "id": "bg4QzqvxymBv"
      },
      "execution_count": null,
      "outputs": []
    },
    {
      "cell_type": "code",
      "source": [],
      "metadata": {
        "id": "5aRojnSeyl-3"
      },
      "execution_count": null,
      "outputs": []
    },
    {
      "cell_type": "code",
      "source": [],
      "metadata": {
        "id": "Q_cFxboByl7f"
      },
      "execution_count": null,
      "outputs": []
    },
    {
      "cell_type": "code",
      "source": [
        "indexes = []\n",
        "values = []\n",
        "for i in range(len(list_spec_df.value_counts())):\n",
        "    indexes.append(list_spec_df.value_counts().index[i][0])\n",
        "    \n"
      ],
      "metadata": {
        "id": "cNxxtiK6tv92"
      },
      "execution_count": null,
      "outputs": []
    },
    {
      "cell_type": "code",
      "source": [
        "plt.barh(indexes, list_spec_df.value_counts().values)\n",
        "plt.show()"
      ],
      "metadata": {
        "colab": {
          "base_uri": "https://localhost:8080/",
          "height": 265
        },
        "id": "tVOBCj5kD_9V",
        "outputId": "d3b13004-ea55-465f-fbc6-746519709606"
      },
      "execution_count": null,
      "outputs": [
        {
          "output_type": "display_data",
          "data": {
            "text/plain": [
              "<Figure size 432x288 with 1 Axes>"
            ],
            "image/png": "[encoded data removed]"
          },
          "metadata": {
            "needs_background": "light"
          }
        }
      ]
    },
    {
      "cell_type": "code",
      "source": [
        "zarplata = final_dataset['salary_from']\n",
        "zarplata_dropna = zarplata.dropna()\n",
        "plt.boxplot(zarplata_dropna)\n",
        "plt.show()"
      ],
      "metadata": {
        "colab": {
          "base_uri": "https://localhost:8080/",
          "height": 276
        },
        "id": "hQt4CqTlSHre",
        "outputId": "b05b852d-5057-4db9-980b-c1acd61ad9a6"
      },
      "execution_count": null,
      "outputs": [
        {
          "output_type": "display_data",
          "data": {
            "text/plain": [
              "<Figure size 432x288 with 1 Axes>"
            ],
            "image/png": "[encoded data removed]"
          },
          "metadata": {
            "needs_background": "light"
          }
        }
      ]
    },
    {
      "cell_type": "code",
      "source": [
        "plt.hist(specializations, bins=25)\n",
        "plt.xlim((None, 10))\n",
        "plt.show"
      ],
      "metadata": {
        "id": "V6SZ-hevh5nO",
        "colab": {
          "base_uri": "https://localhost:8080/",
          "height": 286
        },
        "outputId": "2df65490-d72c-4350-ed13-acb9178df762"
      },
      "execution_count": null,
      "outputs": [
        {
          "output_type": "execute_result",
          "data": {
            "text/plain": [
              "<function matplotlib.pyplot.show(*args, **kw)>"
            ]
          },
          "metadata": {},
          "execution_count": 44
        },
        {
          "output_type": "display_data",
          "data": {
            "text/plain": [
              "<Figure size 432x288 with 1 Axes>"
            ],
            "image/png": "[encoded data removed]"
          },
          "metadata": {
            "needs_background": "light"
          }
        }
      ]
    },
    {
      "cell_type": "code",
      "source": [
        "spec_counts = pd.Series(specializations).value_counts()\n",
        "plt.pie(spec_counts.values, labels=spec_counts.index)\n",
        "plt.title('Специализации')\n",
        "plt.show()"
      ],
      "metadata": {
        "id": "OwXnWwJ1j1x0",
        "colab": {
          "base_uri": "https://localhost:8080/",
          "height": 264
        },
        "outputId": "6a8bb1aa-566e-4c73-abd3-289b9d4397e4"
      },
      "execution_count": null,
      "outputs": [
        {
          "output_type": "display_data",
          "data": {
            "text/plain": [
              "<Figure size 432x288 with 1 Axes>"
            ],
            "image/png": "[encoded data removed]"
          },
          "metadata": {}
        }
      ]
    },
    {
      "cell_type": "code",
      "source": [
        "plt.barh(spec_counts.index, spec_counts.values)\n",
        "plt.show()"
      ],
      "metadata": {
        "colab": {
          "base_uri": "https://localhost:8080/",
          "height": 265
        },
        "id": "lrvgf84FdAWZ",
        "outputId": "5a3fdba1-6fc7-4d02-8a98-cf5e6ebec277"
      },
      "execution_count": null,
      "outputs": [
        {
          "output_type": "display_data",
          "data": {
            "text/plain": [
              "<Figure size 432x288 with 1 Axes>"
            ],
            "image/png": "[encoded data removed]"
          },
          "metadata": {
            "needs_background": "light"
          }
        }
      ]
    }
  ],
  "metadata": {
    "colab": {
      "collapsed_sections": [
        "RkzV79RkCPyL",
        "Acfhw1RH97DV",
        "bBnnIJbl90Zx",
        "tXvbPQlq9x0o",
        "xvvWvb_-9u0u",
        "wQEnBfrU9smW",
        "sJUpwjWN9qCk",
        "ymQV0AJb9m-S",
        "Bv3LyNLP9YuE",
        "OUcNBH9k9R2w",
        "jGYB6L8Z9Gnq",
        "8ob3fchY9DjJ",
        "b5llpQml8-JO",
        "AVxD8bBo86QG",
        "yvQleCLp82UC",
        "A8rAzLDB466O",
        "ylT3evlM5bh_",
        "RRasihqg8U1Y",
        "SpX7vCdG8j85",
        "jIwLYxTiLzal",
        "vgjrPyYa8glH",
        "TA4nTGz58ced",
        "JZnfQ3Ey0N3T",
        "S3z2Hv9Z6Fo7"
      ],
      "provenance": [],
      "include_colab_link": true
    },
    "kernelspec": {
      "display_name": "Python 3",
      "name": "python3"
    },
    "language_info": {
      "name": "python"
    }
  },
  "nbformat": 4,
  "nbformat_minor": 0
}