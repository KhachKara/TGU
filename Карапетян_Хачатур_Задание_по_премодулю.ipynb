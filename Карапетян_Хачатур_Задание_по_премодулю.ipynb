{
  "nbformat": 4,
  "nbformat_minor": 0,
  "metadata": {
    "colab": {
      "name": "Карапетян_Хачатур_Задание по премодулю",
      "provenance": [],
      "collapsed_sections": [],
      "include_colab_link": true
    },
    "kernelspec": {
      "name": "python3",
      "display_name": "Python 3"
    },
    "language_info": {
      "name": "python"
    }
  },
  "cells": [
    {
      "cell_type": "markdown",
      "metadata": {
        "id": "view-in-github",
        "colab_type": "text"
      },
      "source": [
        "<a href=\"https://colab.research.google.com/github/KhachKara/TGU/blob/master/%D0%9A%D0%B0%D1%80%D0%B0%D0%BF%D0%B5%D1%82%D1%8F%D0%BD_%D0%A5%D0%B0%D1%87%D0%B0%D1%82%D1%83%D1%80_%D0%97%D0%B0%D0%B4%D0%B0%D0%BD%D0%B8%D0%B5_%D0%BF%D0%BE_%D0%BF%D1%80%D0%B5%D0%BC%D0%BE%D0%B4%D1%83%D0%BB%D1%8E.ipynb\" target=\"_parent\"><img src=\"https://colab.research.google.com/assets/colab-badge.svg\" alt=\"Open In Colab\"/></a>"
      ]
    },
    {
      "cell_type": "markdown",
      "source": [
        "## **Задача 1. Приветствие**"
      ],
      "metadata": {
        "id": "1KuKdoUrvCW7"
      }
    },
    {
      "cell_type": "markdown",
      "source": [
        "На вход программе подается строка текста – имя человека.\n",
        "\n",
        " Напишите программу, которая выводит на экран приветствие в виде слова «Привет, » (без кавычек), после которого должна стоять запятая и пробел, а затем введенное имя.\n",
        "\n",
        " Для считывания текста используйте команду input(), для печати текста на экране используйте команду print().\n",
        "\n",
        "**Пример:**\n",
        "\n",
        " ввод данных: Екатерина\n",
        "\n",
        " вывод данных: Привет, Екатерина"
      ],
      "metadata": {
        "id": "imPVogXGvT_u"
      }
    },
    {
      "cell_type": "code",
      "source": [
        "name = input()\n",
        "print(f\"Привет, {name}!\")"
      ],
      "metadata": {
        "id": "NqyhA4iJ3Vtt"
      },
      "execution_count": null,
      "outputs": []
    },
    {
      "cell_type": "markdown",
      "source": [
        "## **Задача 2. Право доступа**"
      ],
      "metadata": {
        "id": "8qENl25N1Y0x"
      }
    },
    {
      "cell_type": "markdown",
      "source": [
        "На вход программе подаётся целое число — возраст пользователя. Программа должна вывести текст:\n",
        "*   «Доступ разрешен», если возраст не менее 18;\n",
        "*   «Доступ ограничен», если возраст от 14 до 17 лет (включительно);\n",
        "*   «Доступ запрещен», если возраст менее 14 лет.\n",
        "\n",
        "Для считывания возраста используйте команду input(), не забыв преобразовать тип данных в числовой с помощью int(); для печати текста на экране используйте команду print(). Используйте условные операторы if-elif-else.\n",
        "\n",
        "**Пример:**\n",
        "\n",
        " ввод данных: 17\n",
        "\n",
        " вывод данных: Доступ ограничен"
      ],
      "metadata": {
        "id": "qqqrqrZ34q7y"
      }
    },
    {
      "cell_type": "code",
      "source": [
        "try:\n",
        "  age = int(input())\n",
        "  if age >= 18:\n",
        "    print(\"«Доступ разрешен»\")\n",
        "  elif age >= 14 and age <= 17:\n",
        "    print(\"«Доступ ограничен»\")\n",
        "  elif age < 0:\n",
        "    print(\"Возраст не может быть отрицательным числом\")\n",
        "  else:\n",
        "    print(\"«Доступ запрещен»\") \n",
        "except ValueError:\n",
        "  print(\"Введите числовое значение\")"
      ],
      "metadata": {
        "id": "rpLC73vi3WeU"
      },
      "execution_count": null,
      "outputs": []
    },
    {
      "cell_type": "markdown",
      "source": [
        "## **Задача 3. Повторение**"
      ],
      "metadata": {
        "id": "37D1iZ-46T9f"
      }
    },
    {
      "cell_type": "markdown",
      "source": [
        "На вход программе подаётся:\n",
        "*   на первой строке - текстовое предложение;\n",
        "*   на второй строке - количество повторений (целое число).\n",
        "\n",
        "Напишите программу, которая выводит предложение нужное количество раз (каждое предложение должно начинаться с новой строки).\n",
        "\n",
        "Для считывания текста и числа повторений используйте команду input(), не забыв преобразовать тип данных в числовой с помощью int() для количества повторений; для печати текста на экране используйте команду print(). Используйте цикл for.\n",
        "\n",
        "**Пример:**\n",
        "\n",
        " ввод данных: \n",
        "*   Век живи - век учись!\n",
        "*   3\n",
        "\n",
        "вывод данных: \n",
        " \n",
        "Век живи - век учись!\n",
        "\n",
        "Век живи - век учись!\n",
        "\n",
        "Век живи - век учись!"
      ],
      "metadata": {
        "id": "kXRx-gtU6p2n"
      }
    },
    {
      "cell_type": "code",
      "source": [
        "text = input(\"Введите текст: \")\n",
        "try:\n",
        "  amount = int(input(\"Введите количество повторений: \"))\n",
        "  if amount < 0:\n",
        "    raise ValueError\n",
        "  for i in range(amount):\n",
        "    print(text)\n",
        "except ValueError:\n",
        "  print(\"Не корректное число!\")"
      ],
      "metadata": {
        "id": "I3MQolV33Xb9"
      },
      "execution_count": null,
      "outputs": []
    },
    {
      "cell_type": "markdown",
      "source": [
        "## **Задача 4. Повторение 2**"
      ],
      "metadata": {
        "id": "hHKa8Y2j81kp"
      }
    },
    {
      "cell_type": "markdown",
      "source": [
        "Реализуйте задачу 3 через цикл while."
      ],
      "metadata": {
        "id": "vd60Ri5h-2d9"
      }
    },
    {
      "cell_type": "code",
      "source": [
        "text = input(\"Введите текст: \")\n",
        "i = 0\n",
        "try:\n",
        "  amount = int(input(\"Введите количество повторений: \"))\n",
        "  if amount < 0:\n",
        "    raise ValueError\n",
        "  i = 0\n",
        "  while i < amount:\n",
        "    print(text)\n",
        "    i += 1\n",
        "except ValueError:\n",
        "  print(\"Не корректное число!\")"
      ],
      "metadata": {
        "id": "xN1sosvL3X70"
      },
      "execution_count": null,
      "outputs": []
    },
    {
      "cell_type": "markdown",
      "source": [
        "## **Задача 5. ФИО**"
      ],
      "metadata": {
        "id": "wFjCdbAQBCSg"
      }
    },
    {
      "cell_type": "markdown",
      "source": [
        "Напишите функцию print_fio(name, surname, patronymic), которая принимает три параметра:\n",
        "*   name – имя человека;\n",
        "*   surname – фамилия человека;\n",
        "*   patronymic – отчество человека;\n",
        "\n",
        "а затем выводит на печать ФИО человека (на одной строке, только первые буквы в порядке surname-name-patronymic).\n",
        "\n",
        "Добавьте комментарий перед каждым этапом:\n",
        "\n",
        "*   #объявление функции\n",
        "> def print_fio(name, surname, patronymic)\n",
        "*   #ввод данных\n",
        "> name, surname, patronymic =\n",
        "*   #вызов функции\n",
        "> print_fio(name, surname, patronymic)\n",
        "\n",
        "Для считывания текста используйте команду input(); для печати текста на экране используйте команду print(), добавив параметр sep='' для печати на одной строке. Используйте def для объявления функции.\n",
        "\n",
        "**Пример:**\n",
        "\n",
        " ввод данных: \n",
        "*   Иван\n",
        "*   Сидоров\n",
        "*   Петрович\n",
        "\n",
        "вывод данных: СИП"
      ],
      "metadata": {
        "id": "pkaL_HadBH3z"
      }
    },
    {
      "cell_type": "code",
      "source": [
        "# объявление функции\n",
        "def print_fio(name, surName, patronymic):\n",
        "  \"\"\"\n",
        "  Функция выводит ИФО\n",
        "  \"\"\"\n",
        "  return (f\"{surName[0]}{name[0]}{patronymic[0]}\")\n",
        "\n",
        "#ввод данных\n",
        "name = input(\"Введите имя: \")\n",
        "surName = input(\"Введите фамилию: \")\n",
        "patronymic = input(\"Введите отчество: \")\n",
        "\n",
        "#вызов функции\n",
        "print(print_fio(name, surName, patronymic))"
      ],
      "metadata": {
        "id": "OsNHQU6K3Y3E",
        "colab": {
          "base_uri": "https://localhost:8080/"
        },
        "outputId": "be46af19-6042-4220-e07f-72641ba60396"
      },
      "execution_count": 1,
      "outputs": [
        {
          "output_type": "stream",
          "name": "stdout",
          "text": [
            "Введите имя: Хачатур\n",
            "Введите фамилию: Карапетян\n",
            "Введите отчество: Зорикович\n",
            "КХЗ\n"
          ]
        }
      ]
    },
    {
      "cell_type": "markdown",
      "source": [
        "\n",
        "## **Задача 6. Первая таблица**"
      ],
      "metadata": {
        "id": "cCeC21NMFM_w"
      }
    },
    {
      "cell_type": "markdown",
      "source": [
        "Импортируйте библиотеку pandas с именем pd. Скопируйте словарь, у которого в качестве ключей - столбцы таблицы, а в качестве значений в списках - данные таблицы:\n",
        "> data = {'col 1': ['Я', 'Python', 'Буду'], 'col 2': ['люблю', 'мой', 'стараться'], 'col 3': ['анализ', 'лучший', 'хорошо'], 'col 4': ['данных', 'друг', 'учиться']}\n",
        "\n",
        "Создайте таблицу, скопировав следующий код:\n",
        "> df = pd.DataFrame(data)\n",
        "\n",
        "где df - имя таблицы, pd.DataFrame() - конструктор таблицы, data - словарь.\n",
        "\n",
        "Выведите таблицу через print() либо просто ее вызовом без print().\n",
        "\n",
        "\n"
      ],
      "metadata": {
        "id": "BFyYI5dtFUmf"
      }
    },
    {
      "cell_type": "code",
      "source": [
        "import pandas as pd\n",
        "data = {'col 1': ['Я', 'Python', 'Буду'], 'col 2': ['люблю', 'мой', 'стараться'], 'col 3': ['анализ', 'лучший', 'хорошо'], 'col 4': ['данных', 'друг', 'учиться']}\n",
        "df = pd.DataFrame(data)\n",
        "print(df)\n",
        "\n"
      ],
      "metadata": {
        "id": "NcORHQCE3ZSU",
        "colab": {
          "base_uri": "https://localhost:8080/"
        },
        "outputId": "9eae9ff6-dfe2-4a4e-96e4-9e2c8b80430e"
      },
      "execution_count": 2,
      "outputs": [
        {
          "output_type": "stream",
          "name": "stdout",
          "text": [
            "    col 1      col 2   col 3    col 4\n",
            "0       Я      люблю  анализ   данных\n",
            "1  Python        мой  лучший     друг\n",
            "2    Буду  стараться  хорошо  учиться\n"
          ]
        }
      ]
    }
  ]
}